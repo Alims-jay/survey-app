import pandas as pd
import matplotlib.pyplot as plt

# Load data
df = pd.read_csv('user_data.csv')

# Visualization 1: Ages with Highest Income
age_income = df.groupby('Age')['Total Income'].mean().sort_values(ascending=False)
age_income.plot(kind='bar', figsize=(10, 6))
plt.title('Average Income by Age')
plt.xlabel('Age')
plt.ylabel('Income')
plt.savefig('age_income.png')
plt.show()

# Visualization 2: Gender Spending Distribution
melted_df = df.melt(id_vars=['Gender'], 
                    value_vars=['utilities', 'entertainment', 'school fees', 'shopping', 'healthcare'], 
                    var_name='Category', value_name='Amount')
gender_spending = melted_df.groupby(['Gender', 'Category'])['Amount'].sum().unstack()
gender_spending.plot(kind='bar', figsize=(12, 6))
plt.title('Spending by Gender and Category')
plt.xlabel('Gender')
plt.ylabel('Total Spent')
plt.legend(title='Category')
plt.savefig('gender_spending.png')
plt.show()